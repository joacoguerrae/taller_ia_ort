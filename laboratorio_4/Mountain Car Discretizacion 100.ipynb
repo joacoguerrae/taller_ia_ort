{
  "cells": [
    {
      "cell_type": "code",
      "execution_count": 1,
      "id": "1206ba89",
      "metadata": {
        "id": "1206ba89"
      },
      "outputs": [
        {
          "name": "stderr",
          "output_type": "stream",
          "text": [
            "<frozen importlib._bootstrap>:488: RuntimeWarning: Your system is avx2 capable but pygame was not built with support for it. The performance of some of your blits could be adversely affected. Consider enabling compile time detection with environment variables like PYGAME_DETECT_AVX2=1 if you are compiling without cross compilation.\n"
          ]
        }
      ],
      "source": [
        "import gymnasium as gym\n",
        "from gymnasium.utils.play import play\n",
        "from gymnasium.wrappers import RecordVideo, TransformObservation\n",
        "from gymnasium import spaces\n",
        "from tqdm import tqdm\n",
        "import numpy as np\n",
        "import matplotlib.pyplot as plt\n",
        "from Utils import plot_rewards, plot_epsilon, test_utils\n",
        "from collections import defaultdict\n",
        "%matplotlib inline"
      ]
    },
    {
      "cell_type": "code",
      "execution_count": 2,
      "id": "a897d6ad",
      "metadata": {
        "id": "a897d6ad"
      },
      "outputs": [],
      "source": [
        "def get_env(record_video=False, record_every=1, folder=\"./videos\" ):\n",
        "    \"\"\"\n",
        "    Create the MountainCar environment with optional video recording and statistics.\n",
        "    Args:\n",
        "        record_video (bool): Whether to record video of the episodes.\n",
        "        record_every (int): Frequency of recording episodes.\n",
        "        folder (str): Folder to save the recorded videos.\n",
        "    Returns:\n",
        "        env (gym.Env): The MountainCar environment.\n",
        "\n",
        "    See also:\n",
        "        https://gymnasium.farama.org/introduction/record_agent/\n",
        "    \"\"\"\n",
        "    # Initialise the environment\n",
        "    env = gym.make(\"MountainCar-v0\", render_mode=\"rgb_array\")\n",
        "\n",
        "    if record_video:\n",
        "        env = RecordVideo(env, video_folder=folder, name_prefix=\"MountainCar\",\n",
        "                    episode_trigger=lambda x: x % record_every == 0)\n",
        "\n",
        "    return env"
      ]
    },
    {
      "cell_type": "code",
      "execution_count": 3,
      "id": "cdb08e93",
      "metadata": {
        "id": "cdb08e93"
      },
      "outputs": [
        {
          "name": "stderr",
          "output_type": "stream",
          "text": [
            "c:\\Users\\joaco\\anaconda3\\envs\\ia-taller\\Lib\\site-packages\\gymnasium\\wrappers\\rendering.py:283: UserWarning: \u001b[33mWARN: Overwriting existing videos at c:\\Users\\joaco\\Documents\\ort\\taller_de_ia\\laboratorio_4\\videos\\random_actions folder (try specifying a different `video_folder` for the `RecordVideo` wrapper if this is not desired)\u001b[0m\n",
            "  logger.warn(\n"
          ]
        }
      ],
      "source": [
        "env = get_env(record_video=True, record_every=1, folder=\"./videos/random_actions\")\n",
        "\n",
        "for episode_num in range(5):\n",
        "    obs, info = env.reset()\n",
        "\n",
        "    episode_over = False\n",
        "    while not episode_over:\n",
        "        action = env.action_space.sample()  # Random action\n",
        "        obs, reward, terminated, truncated, info = env.step(action)\n",
        "        episode_over = terminated or truncated"
      ]
    },
    {
      "cell_type": "markdown",
      "id": "d6428a89",
      "metadata": {
        "id": "d6428a89"
      },
      "source": [
        "### Uso de `TransformObservation` para Discretizar el Ambiente\n",
        "\n",
        "Gymnasium ofrece un wrapper muy práctico llamado `TransformObservation` que permite transformar las observaciones de manera sencilla sin necesidad de definir una clase personalizada. Esto es especialmente útil cuando se quiere convertir un espacio continuo en un espacio discreto para poder utilizar métodos tabulares como Q-Learning o Sarsa.\n",
        "\n",
        "Ver [TransformObservation](https://gymnasium.farama.org/api/wrappers/observation_wrappers/#gymnasium.wrappers.TransformObservation) para más detalles.\n",
        "\n",
        "Discretizamos el ambiente con 100*100 estados"
      ]
    },
    {
      "cell_type": "code",
      "execution_count": 21,
      "id": "0a7a42e4",
      "metadata": {
        "id": "0a7a42e4"
      },
      "outputs": [],
      "source": [
        "NUMBER_STATES = 100\n",
        "\n",
        "# Definir la función de transformación para discretizar la observación.\n",
        "def discretize_obs(obs):\n",
        "    # observation_space low y high nos permiten conocer los límites de nuestro ambiente para los valores de Posicion y Velocidad.\n",
        "    env_low = env.observation_space.low\n",
        "    env_high = env.observation_space.high\n",
        "\n",
        "    env_den = (env_high - env_low) / NUMBER_STATES\n",
        "    pos_den = env_den[0]\n",
        "    vel_den = env_den[1]\n",
        "\n",
        "    pos_low = env_low[0]\n",
        "    vel_low = env_low[1]\n",
        "\n",
        "    pos_scaled = int((obs[0] - pos_low) / pos_den)\n",
        "    vel_scaled = int((obs[1] - vel_low) / vel_den)\n",
        "\n",
        "    return pos_scaled, vel_scaled"
      ]
    },
    {
      "cell_type": "code",
      "execution_count": 5,
      "id": "4df904f9",
      "metadata": {
        "id": "4df904f9"
      },
      "outputs": [],
      "source": [
        "def get_env_discretized(record_video=False, record_every=1, folder=\"./videos\"):\n",
        "    base_env = get_env(record_video=record_video, record_every=record_every, folder=folder)\n",
        "    # Discretizar la observación\n",
        "    new_observation_space = spaces.MultiDiscrete([NUMBER_STATES, NUMBER_STATES])\n",
        "    return TransformObservation(base_env, discretize_obs, new_observation_space)"
      ]
    },
    {
      "cell_type": "code",
      "execution_count": 6,
      "id": "01b70ad5",
      "metadata": {
        "colab": {
          "base_uri": "https://localhost:8080/"
        },
        "id": "01b70ad5",
        "outputId": "4565762d-88ef-4f78-86c4-e82517821de5"
      },
      "outputs": [
        {
          "name": "stdout",
          "output_type": "stream",
          "text": [
            "Original observation: [-0.5018195  0.       ]\n",
            "Discretized observation: (41, 50)\n"
          ]
        },
        {
          "name": "stderr",
          "output_type": "stream",
          "text": [
            "c:\\Users\\joaco\\anaconda3\\envs\\ia-taller\\Lib\\site-packages\\gymnasium\\wrappers\\rendering.py:416: UserWarning: \u001b[33mWARN: Unable to save last video! Did you call close()?\u001b[0m\n",
            "  logger.warn(\"Unable to save last video! Did you call close()?\")\n"
          ]
        }
      ],
      "source": [
        "env = get_env()\n",
        "obs, info = env.reset()\n",
        "print(f\"Original observation: {obs}\")\n",
        "\n",
        "env_dis = get_env_discretized()\n",
        "obs, info = env_dis.reset()\n",
        "print(f\"Discretized observation: {obs}\")"
      ]
    },
    {
      "cell_type": "markdown",
      "id": "5467c1fe",
      "metadata": {
        "id": "5467c1fe"
      },
      "source": [
        "## Q-Learning\n",
        "Q-Learning es un algoritmo de aprendizaje por refuerzo que busca aprender la función de valor óptima $Q^*(s, a)$ para cada par de estado-acción. A través de la exploración y explotación, el agente actualiza su tabla Q utilizando el siguiente algoritmo:"
      ]
    },
    {
      "cell_type": "code",
      "execution_count": 7,
      "id": "2f94ac93",
      "metadata": {
        "id": "2f94ac93"
      },
      "outputs": [],
      "source": [
        "def q_learning(env, num_episodes=1000, alpha=0.1, gamma=0.99, epsilon_start=1, epsilon_decay=0.9995, epsilon_min=0.05):\n",
        "    \"\"\"\n",
        "    Q-learning algorithm for the MountainCar environment.\n",
        "\n",
        "    Args:\n",
        "        env (gym.Env): The environment to train on.\n",
        "        num_episodes (int): Number of episodes to train.\n",
        "        alpha (float): Learning rate.\n",
        "        gamma (float): Discount factor.\n",
        "        epsilon_start (float): Initial exploration rate.\n",
        "        epsilon_decay (float): Decay rate for exploration.\n",
        "        epsilon_min (float): Minimum exploration rate.\n",
        "\n",
        "    Returns:\n",
        "        Q (np.ndarray): The learned Q-table.\n",
        "        episode_rewards (list): Rewards per episode.\n",
        "        epsilons (list): Exploration rates per episode.\n",
        "    \"\"\"\n",
        "\n",
        "    # Initialize Q-table\n",
        "    Q = defaultdict(lambda: np.zeros(env.action_space.n))\n",
        "\n",
        "    # Initialize exploration rate\n",
        "    epsilon = epsilon_start\n",
        "\n",
        "    # Store rewards and exploration rates\n",
        "    episode_rewards = []\n",
        "    epsilons = []\n",
        "\n",
        "    for episode in tqdm(range(num_episodes)):\n",
        "        obs, info = env.reset()\n",
        "        done = False\n",
        "        total_reward = 0\n",
        "\n",
        "        while not done:\n",
        "            # Epsilon-greedy action selection\n",
        "            if np.random.rand() < epsilon:\n",
        "                action = env.action_space.sample()  # Explore\n",
        "            else:\n",
        "                action = np.argmax(Q[obs])  # Exploit\n",
        "\n",
        "            # Take action and observe new state and reward\n",
        "            new_obs, reward, terminated, truncated, info = env.step(action)\n",
        "            done = terminated or truncated\n",
        "\n",
        "            # Update Q-value\n",
        "            best_next_action = np.argmax(Q[new_obs])\n",
        "            td_target = reward + gamma * Q[new_obs][best_next_action]\n",
        "            td_delta = td_target - Q[obs][action]\n",
        "            Q[obs][action] += alpha * td_delta\n",
        "\n",
        "            obs = new_obs\n",
        "            total_reward += reward\n",
        "\n",
        "        episode_rewards.append(total_reward)\n",
        "        epsilons.append(epsilon)\n",
        "\n",
        "        # Decay epsilon\n",
        "        epsilon = max(epsilon_min, epsilon * epsilon_decay)\n",
        "\n",
        "\n",
        "\n",
        "    return Q, episode_rewards, epsilons\n"
      ]
    },
    {
      "cell_type": "code",
      "execution_count": 12,
      "id": "970c2fd8",
      "metadata": {
        "colab": {
          "base_uri": "https://localhost:8080/",
          "height": 393
        },
        "id": "970c2fd8",
        "outputId": "f1a85a65-4168-408d-ddc7-87a205b13137"
      },
      "outputs": [
        {
          "name": "stderr",
          "output_type": "stream",
          "text": [
            "100%|██████████| 100000/100000 [10:45<00:00, 154.88it/s]\n"
          ]
        }
      ],
      "source": [
        "NUMBER_EPISODES = 100_000\n",
        "\n",
        "env_dis = get_env_discretized(record_video=True, record_every=1_000, folder=\"./videos/q_learning_training\")\n",
        "Q_ql, rewards_ql, epsilons_ql = q_learning(env_dis, num_episodes=NUMBER_EPISODES)"
      ]
    },
    {
      "cell_type": "code",
      "execution_count": null,
      "id": "aa425c65",
      "metadata": {},
      "outputs": [
        {
          "data": {
            "text/plain": [
              "np.int64(71881)"
            ]
          },
          "execution_count": 13,
          "metadata": {},
          "output_type": "execute_result"
        }
      ],
      "source": [
        "np.argmax(rewards_ql)"
      ]
    },
    {
      "cell_type": "code",
      "execution_count": 20,
      "id": "1d498f56",
      "metadata": {},
      "outputs": [
        {
          "data": {
            "text/plain": [
              "[-200.0,\n",
              " -200.0,\n",
              " -200.0,\n",
              " -200.0,\n",
              " -200.0,\n",
              " -200.0,\n",
              " -200.0,\n",
              " -200.0,\n",
              " -200.0,\n",
              " -200.0,\n",
              " -200.0,\n",
              " -200.0,\n",
              " -200.0,\n",
              " -200.0,\n",
              " -200.0,\n",
              " -166.0,\n",
              " -200.0,\n",
              " -200.0,\n",
              " -200.0,\n",
              " -200.0,\n",
              " -200.0,\n",
              " -200.0,\n",
              " -200.0,\n",
              " -200.0,\n",
              " -200.0,\n",
              " -200.0,\n",
              " -200.0,\n",
              " -200.0,\n",
              " -200.0,\n",
              " -200.0,\n",
              " -200.0,\n",
              " -200.0,\n",
              " -200.0,\n",
              " -165.0,\n",
              " -165.0,\n",
              " -191.0,\n",
              " -200.0,\n",
              " -200.0,\n",
              " -200.0,\n",
              " -200.0,\n",
              " -134.0,\n",
              " -200.0,\n",
              " -192.0,\n",
              " -152.0,\n",
              " -158.0,\n",
              " -155.0,\n",
              " -150.0,\n",
              " -187.0,\n",
              " -160.0,\n",
              " -154.0,\n",
              " -121.0,\n",
              " -159.0,\n",
              " -149.0,\n",
              " -155.0,\n",
              " -122.0,\n",
              " -121.0,\n",
              " -156.0,\n",
              " -148.0,\n",
              " -116.0,\n",
              " -187.0,\n",
              " -145.0,\n",
              " -158.0,\n",
              " -143.0,\n",
              " -136.0,\n",
              " -178.0,\n",
              " -143.0,\n",
              " -116.0,\n",
              " -111.0,\n",
              " -115.0,\n",
              " -152.0,\n",
              " -164.0,\n",
              " -157.0,\n",
              " -151.0,\n",
              " -116.0,\n",
              " -150.0,\n",
              " -139.0,\n",
              " -145.0,\n",
              " -147.0,\n",
              " -157.0,\n",
              " -154.0,\n",
              " -116.0,\n",
              " -152.0,\n",
              " -113.0,\n",
              " -153.0,\n",
              " -111.0,\n",
              " -147.0,\n",
              " -160.0,\n",
              " -148.0,\n",
              " -149.0,\n",
              " -113.0,\n",
              " -89.0,\n",
              " -153.0,\n",
              " -114.0,\n",
              " -107.0,\n",
              " -153.0,\n",
              " -90.0,\n",
              " -145.0,\n",
              " -157.0,\n",
              " -113.0,\n",
              " -105.0]"
            ]
          },
          "execution_count": 20,
          "metadata": {},
          "output_type": "execute_result"
        }
      ],
      "source": [
        "rewards_ql[::1000] "
      ]
    },
    {
      "cell_type": "code",
      "execution_count": 15,
      "id": "6db527d9",
      "metadata": {
        "colab": {
          "base_uri": "https://localhost:8080/",
          "height": 927
        },
        "id": "6db527d9",
        "outputId": "023e6124-0f46-4010-fdb3-fd59aaded245"
      },
      "outputs": [
        {
          "data": {
            "image/png": "[encoded data removed]",
            "text/plain": [
              "<Figure size 640x480 with 1 Axes>"
            ]
          },
          "metadata": {},
          "output_type": "display_data"
        },
        {
          "data": {
            "image/png": "[encoded data removed]",
            "text/plain": [
              "<Figure size 640x480 with 1 Axes>"
            ]
          },
          "metadata": {},
          "output_type": "display_data"
        }
      ],
      "source": [
        "plot_rewards(rewards_ql)\n",
        "plot_epsilon(epsilons_ql)"
      ]
    },
    {
      "cell_type": "code",
      "execution_count": 5,
      "id": "889a18ae",
      "metadata": {},
      "outputs": [],
      "source": [
        "def plot_rewards_2(rewards, average_range=1000):\n",
        "    episode_ticks = int(len(rewards) / average_range)\n",
        "\n",
        "    avg_rewards = np.array(rewards).reshape((episode_ticks, average_range))\n",
        "    avg_rewards = np.mean(avg_rewards, axis=1)\n",
        "\n",
        "    plt.plot([i * average_range for i in range(episode_ticks)], avg_rewards)\n",
        "    # plt.plot(rewards)\n",
        "    plt.title(\"Episode Accumulated Reward\")\n",
        "    plt.xlabel(\"Episode Number\")\n",
        "    plt.ylabel(\"Reward\")\n",
        "    plt.show()"
      ]
    },
    {
      "cell_type": "code",
      "execution_count": null,
      "id": "ca54b129",
      "metadata": {
        "id": "ca54b129"
      },
      "outputs": [
        {
          "name": "stderr",
          "output_type": "stream",
          "text": [
            "c:\\Users\\joaco\\anaconda3\\envs\\ia-taller\\Lib\\site-packages\\gymnasium\\wrappers\\rendering.py:283: UserWarning: \u001b[33mWARN: Overwriting existing videos at c:\\Users\\joaco\\Documents\\ort\\taller_de_ia\\laboratorio_4\\videos\\q_learning_test folder (try specifying a different `video_folder` for the `RecordVideo` wrapper if this is not desired)\u001b[0m\n",
            "  logger.warn(\n"
          ]
        }
      ],
      "source": [
        "env_dis = get_env_discretized(record_video=True, record_every=1, folder=\"./videos/discret_100/q_learning_test\")\n",
        "\n",
        "for episode_num in range(5):\n",
        "    (pos, vel), info = env_dis.reset()\n",
        "    episode_over = False\n",
        "    while not episode_over:\n",
        "        action = np.argmax(Q_ql[pos, vel])  # Exploit\n",
        "        (pos, vel), reward, terminated, truncated, info = env_dis.step(action)\n",
        "        episode_over = terminated or truncated"
      ]
    }
  ],
  "metadata": {
    "colab": {
      "provenance": []
    },
    "kernelspec": {
      "display_name": "ia-taller",
      "language": "python",
      "name": "python3"
    },
    "language_info": {
      "codemirror_mode": {
        "name": "ipython",
        "version": 3
      },
      "file_extension": ".py",
      "mimetype": "text/x-python",
      "name": "python",
      "nbconvert_exporter": "python",
      "pygments_lexer": "ipython3",
      "version": "3.12.9"
    }
  },
  "nbformat": 4,
  "nbformat_minor": 5
}
